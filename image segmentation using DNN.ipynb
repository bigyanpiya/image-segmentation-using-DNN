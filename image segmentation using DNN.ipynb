{
 "cells": [
  {
   "cell_type": "markdown",
   "id": "acaf0d97",
   "metadata": {},
   "source": [
    "# Importing necessary packages and loading the model "
   ]
  },
  {
   "cell_type": "code",
   "execution_count": 4,
   "id": "1e0d1507",
   "metadata": {},
   "outputs": [],
   "source": [
    "import cv2\n",
    "import numpy as np\n",
    "\n",
    "# Load the model\n",
    "net = cv2.dnn.readNetFromTensorflow(\"dnn/frozen_inference_graph_coco.pb\",\n",
    "                                    \"dnn/mask_rcnn_inception_v2_coco_2018_01_28.pbtxt\")"
   ]
  },
  {
   "cell_type": "markdown",
   "id": "40927a0e",
   "metadata": {},
   "source": [
    "# classnames"
   ]
  },
  {
   "cell_type": "code",
   "execution_count": 5,
   "id": "3d6d3554",
   "metadata": {},
   "outputs": [
    {
     "name": "stdout",
     "output_type": "stream",
     "text": [
      "['person', 'bicycle', 'car', 'motorcycle', 'airplane', 'bus', 'train', 'truck', 'boat', 'traffic light', 'fire hydrant', 'street sign', 'stop sign', 'parking meter', 'bench', 'bird', 'cat', 'dog', 'horse', 'sheep', 'cow', 'elephant', 'bear', 'zebra', 'giraffe', 'hat', 'backpack', 'umbrella', 'shoe', 'eye glasses', 'handbag', 'tie', 'suitcase', 'frisbee', 'skis', 'snowboard', 'sports ball', 'kite', 'baseball bat', 'baseball glove', 'skateboard', 'surfboard', 'tennis racket', 'bottle', 'plate', 'wine glass', 'cup', 'fork', 'knife', 'spoon', 'bowl', 'banana', 'apple', 'sandwich', 'orange', 'broccoli', 'carrot', 'hot dog', 'pizza', 'donut', 'cake', 'chair', 'couch', 'potted plant', 'bed', 'mirror', 'dining table', 'window', 'desk', 'toilet', 'door', 'tv', 'laptop', 'mouse', 'remote', 'keyboard', 'cell phone', 'microwave', 'oven', 'toaster', 'sink', 'refrigerator', 'blender', 'book', 'clock', 'vase', 'scissors', 'teddy bear', 'hair drier', 'toothbrush', 'hair brush']\n"
     ]
    }
   ],
   "source": [
    "# Store Coco Names in a list\n",
    "classesFile = \"coco.names\"\n",
    "classNames = open(classesFile).read().strip().split('\\n')\n",
    "print(classNames)"
   ]
  },
  {
   "cell_type": "markdown",
   "id": "95fc0462",
   "metadata": {},
   "source": [
    "# Image preprocessing"
   ]
  },
  {
   "cell_type": "code",
   "execution_count": 6,
   "id": "6cd6680e",
   "metadata": {},
   "outputs": [],
   "source": [
    "# Load image\n",
    "img = cv2.imread(\"car.jpeg\")\n",
    "height, width, _ = img.shape\n",
    "\n",
    "# Create black image\n",
    "blank_mask = np.zeros((height, width, 3), np.uint8)\n",
    "\n",
    "# Create blob from the image\n",
    "blob = cv2.dnn.blobFromImage(img, swapRB=True)"
   ]
  },
  {
   "cell_type": "markdown",
   "id": "ee04d9a3",
   "metadata": {},
   "source": [
    "# Make predictions from the input"
   ]
  },
  {
   "cell_type": "code",
   "execution_count": 7,
   "id": "45a9652e",
   "metadata": {},
   "outputs": [],
   "source": [
    "# Detect objects\n",
    "net.setInput(blob)\n",
    "\n",
    "boxes, masks = net.forward([\"detection_out_final\", \"detection_masks\"])\n",
    "detection_count = boxes.shape[2]\n"
   ]
  },
  {
   "cell_type": "markdown",
   "id": "6f866bef",
   "metadata": {},
   "source": [
    "# Post process the output data and Final Result"
   ]
  },
  {
   "cell_type": "code",
   "execution_count": 8,
   "id": "ab85529c",
   "metadata": {},
   "outputs": [
    {
     "data": {
      "text/plain": [
       "-1"
      ]
     },
     "execution_count": 8,
     "metadata": {},
     "output_type": "execute_result"
    }
   ],
   "source": [
    "  for i in range(detection_count):\n",
    "    # Extract information from detection\n",
    "    box = boxes[0, 0, i]\n",
    "    class_id = int(box[1])\n",
    "    score = box[2]\n",
    "    \n",
    "    if score < 0.6:\n",
    "        continue\n",
    "\n",
    "    class_name = classNames[class_id]\n",
    "    \n",
    "    x = int(box[3] * width)\n",
    "    y = int(box[4] * height)\n",
    "    x2 = int(box[5] * width)\n",
    "    y2 = int(box[6] * height)\n",
    "\n",
    "    roi = blank_mask[y: y2, x: x2]\n",
    "    roi_height, roi_width, _ = roi.shape\n",
    "    # Get the mask\n",
    "    mask = masks[i, int(class_id)]\n",
    "    mask = cv2.resize(mask, (roi_width, roi_height))\n",
    "    _, mask = cv2.threshold(mask, 0.5, 255, cv2.THRESH_BINARY)\n",
    "    \n",
    "        # Convert mask to np.uint8\n",
    "    mask = mask.astype(np.uint8)\n",
    "\n",
    "    # Apply mask to the region of interest\n",
    "    masked_img = cv2.bitwise_and(img[y: y2, x: x2], img[y: y2, x: x2], mask=mask)\n",
    "\n",
    "    # Overlay masked image onto the blank mask\n",
    "    blank_mask[y: y2, x: x2] = cv2.add(blank_mask[y: y2, x: x2], masked_img)\n",
    "\n",
    "    # Add label to the segmented image\n",
    "    cv2.putText(blank_mask, class_name, (x, y), cv2.FONT_HERSHEY_SIMPLEX, 0.7, (255, 255, 255), 2, cv2.LINE_AA)\n",
    "\n",
    "# alpha is the transparency of the first picture\n",
    "alpha = 0.5\n",
    "# beta is the transparency of the second picture\n",
    "beta = 0.5\n",
    "mask_img = cv2.addWeighted(img, alpha, blank_mask, beta, 0)\n",
    "\n",
    "cv2.imshow(\"Masked Image with Labels\", mask_img)\n",
    "cv2.waitKey(0)\n"
   ]
  },
  {
   "cell_type": "code",
   "execution_count": null,
   "id": "9c6b841c",
   "metadata": {},
   "outputs": [],
   "source": []
  }
 ],
 "metadata": {
  "kernelspec": {
   "display_name": "Python 3 (ipykernel)",
   "language": "python",
   "name": "python3"
  },
  "language_info": {
   "codemirror_mode": {
    "name": "ipython",
    "version": 3
   },
   "file_extension": ".py",
   "mimetype": "text/x-python",
   "name": "python",
   "nbconvert_exporter": "python",
   "pygments_lexer": "ipython3",
   "version": "3.11.5"
  }
 },
 "nbformat": 4,
 "nbformat_minor": 5
}
